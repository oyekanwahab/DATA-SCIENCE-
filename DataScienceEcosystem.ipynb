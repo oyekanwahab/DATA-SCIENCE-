{
 "cells": [
  {
   "cell_type": "markdown",
   "id": "024f3275-cae9-4462-97db-457336886365",
   "metadata": {},
   "source": [
    "# Data Science Tools and Ecosystem "
   ]
  },
  {
   "cell_type": "markdown",
   "id": "b4168d04-0204-499d-bd5e-352ce2ee6cde",
   "metadata": {},
   "source": [
    "**Objective**: \n",
    "* List popular languages for Data Science\n",
    "* Introduction to IBM SPSS\n",
    "* Checking refining data "
   ]
  },
  {
   "cell_type": "markdown",
   "id": "7ad69061-59e7-439c-b430-6c926bb5ac63",
   "metadata": {},
   "source": [
    "In this notebook, Data Science Tools and Ecosystem are summarized."
   ]
  },
  {
   "cell_type": "markdown",
   "id": "3bf117a9-6b53-4f97-a1fe-bce3b33e495f",
   "metadata": {},
   "source": [
    "Some of the popular languages that Data Scientists use are:\n",
    "1. Ruby\n",
    "2. Python\n",
    "3. Scala"
   ]
  },
  {
   "cell_type": "markdown",
   "id": "9fe5b3eb-28b4-4929-b4f9-42b089125440",
   "metadata": {},
   "source": [
    "Some of the commonly used libraries used by Data Scientists include:\n",
    "\n",
    "1. Pandas \n",
    "2. SciPy \n",
    "3. TensorFlow"
   ]
  },
  {
   "cell_type": "markdown",
   "id": "2a06c245-622a-4f14-9bbb-51b844340528",
   "metadata": {},
   "source": [
    "|Data Science tool |\n",
    "|------------------|\n",
    "| IBM SPSS         |\n",
    "|Jupyter Notebook  |\n",
    "| Keras            |"
   ]
  },
  {
   "cell_type": "markdown",
   "id": "b37f0a21-95a8-4a0b-9f10-00f03066d819",
   "metadata": {},
   "source": [
    "### Below are a few examples of evaluating arithmetic expressions in Python"
   ]
  },
  {
   "cell_type": "code",
   "execution_count": 4,
   "id": "77b6beae-6406-4d8e-9123-a16ecaebf7bf",
   "metadata": {
    "tags": []
   },
   "outputs": [
    {
     "data": {
      "text/plain": [
       "17"
      ]
     },
     "execution_count": 4,
     "metadata": {},
     "output_type": "execute_result"
    }
   ],
   "source": [
    "#This a simple arithmetic expression to mutiply then add integers\n",
    "\n",
    "(3*4)+5"
   ]
  },
  {
   "cell_type": "code",
   "execution_count": 5,
   "id": "ce820008-7b27-4a8d-b001-d35408f1d8c5",
   "metadata": {},
   "outputs": [
    {
     "name": "stdout",
     "output_type": "stream",
     "text": [
      "There are 3.3333333333333335 hour in 200 minutes\n"
     ]
    }
   ],
   "source": [
    "time = 200\n",
    "hour = int(time) / 60 \n",
    "#This will convert 200 minutes to hours by diving by 60\n",
    "print(\"There are\",hour,\"hour in\",time,\"minutes\")"
   ]
  },
  {
   "cell_type": "markdown",
   "id": "b55260ae-3b3a-4bc0-82b2-2808f8ed145d",
   "metadata": {},
   "source": [
    "## Author\n",
    "oyekan abdul-wahab"
   ]
  }
 ],
 "metadata": {
  "kernelspec": {
   "display_name": "Python",
   "language": "python",
   "name": "conda-env-python-py"
  },
  "language_info": {
   "codemirror_mode": {
    "name": "ipython",
    "version": 3
   },
   "file_extension": ".py",
   "mimetype": "text/x-python",
   "name": "python",
   "nbconvert_exporter": "python",
   "pygments_lexer": "ipython3",
   "version": "3.7.12"
  }
 },
 "nbformat": 4,
 "nbformat_minor": 5
}
